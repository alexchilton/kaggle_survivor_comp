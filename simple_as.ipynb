{
 "cells": [
  {
   "cell_type": "code",
   "id": "initial_id",
   "metadata": {
    "collapsed": true,
    "ExecuteTime": {
     "end_time": "2024-12-16T21:09:19.397592Z",
     "start_time": "2024-12-16T21:09:19.381404Z"
    }
   },
   "source": "DATA_DIR = 'equity-post-HCT-survival-predictions-1'\n",
   "outputs": [],
   "execution_count": 3
  },
  {
   "metadata": {
    "ExecuteTime": {
     "end_time": "2024-12-16T21:07:41.212962Z",
     "start_time": "2024-12-16T21:07:41.211033Z"
    }
   },
   "cell_type": "code",
   "source": [
    "import pandas as pd\n",
    "import numpy as np\n",
    "\n",
    "import warnings\n",
    "\n",
    "warnings.filterwarnings('ignore')"
   ],
   "id": "2d3a31bcd4d2d0c5",
   "outputs": [],
   "execution_count": 1
  },
  {
   "metadata": {
    "ExecuteTime": {
     "end_time": "2024-12-16T21:09:21.990035Z",
     "start_time": "2024-12-16T21:09:21.787552Z"
    }
   },
   "cell_type": "code",
   "source": [
    "#train_data = pd.read_csv('/kaggle/input/equity-post-HCT-survival-predictions/train.csv')\n",
    "#test_data  = pd.read_csv('/kaggle/input/equity-post-HCT-survival-predictions/test.csv')\n",
    "\n",
    "train_data = pd.read_csv(DATA_DIR +'/train.csv')\n",
    "test_data  = pd.read_csv(DATA_DIR +'/test.csv')"
   ],
   "id": "e5a9c5bd3be30fcd",
   "outputs": [],
   "execution_count": 4
  },
  {
   "metadata": {},
   "cell_type": "code",
   "outputs": [],
   "execution_count": null,
   "source": "",
   "id": "1e485795d6315172"
  },
  {
   "metadata": {
    "ExecuteTime": {
     "end_time": "2024-12-16T21:09:55.271892Z",
     "start_time": "2024-12-16T21:09:55.134648Z"
    }
   },
   "cell_type": "code",
   "source": [
    "from lifelines import KaplanMeierFitter\n",
    "\n",
    "# Function to calculate Kaplan-Meier survival probabilities\n",
    "def calculate_survival_probabilities(df, time_col, event_col):\n",
    "    kmf = KaplanMeierFitter()\n",
    "    kmf.fit(df[time_col], df[event_col])\n",
    "    return kmf.survival_function_at_times(df[time_col]).values\n",
    "\n",
    "# Preprocess the dataset\n",
    "def preprocess_survival_data(df, time_col='efs_time', event_col='efs'):\n",
    "    df['target'] = calculate_survival_probabilities(df, time_col, event_col)\n",
    "    # df.loc[df[event_col] == 0, 'target'] -= 0.2  # Adjust for censored data\n",
    "    # df['efs_time2'] = df[time_col].where(df[event_col] == 1, -df[time_col])  # Negative for censored\n",
    "    return df\n",
    "\n",
    "# Apply preprocessing\n",
    "df = preprocess_survival_data(train_data)"
   ],
   "id": "31ca9821f56303e2",
   "outputs": [],
   "execution_count": 5
  },
  {
   "metadata": {},
   "cell_type": "code",
   "outputs": [],
   "execution_count": null,
   "source": "",
   "id": "c9dd44f0e53ac5"
  },
  {
   "metadata": {
    "ExecuteTime": {
     "end_time": "2024-12-16T21:10:10.808699Z",
     "start_time": "2024-12-16T21:10:10.731335Z"
    }
   },
   "cell_type": "code",
   "source": [
    "# Add an indicator column\n",
    "train_data['Dataset'] = 'train'\n",
    "test_data['Dataset'] = 'test'\n",
    "\n",
    "# Concatenate train and test\n",
    "df = pd.concat([train_data, test_data], axis=0).reset_index(drop=True)"
   ],
   "id": "fe4b1f2959f5ddbf",
   "outputs": [],
   "execution_count": 6
  },
  {
   "metadata": {
    "ExecuteTime": {
     "end_time": "2024-12-16T21:16:44.429332Z",
     "start_time": "2024-12-16T21:16:44.410597Z"
    }
   },
   "cell_type": "code",
   "source": [
    "# Separate numerical and categorical columns\n",
    "numerical_columns = df.select_dtypes(include=['float64', 'int64']).columns\n",
    "categorical_columns = df.select_dtypes(include=['object']).columns\n",
    "\n",
    "# Display results\n",
    "print(\"Numerical Columns:\")\n",
    "print(numerical_columns)\n",
    "\n",
    "print(\"\\nCategorical Columns:\")\n",
    "print(categorical_columns)"
   ],
   "id": "953be9a7ef888f4c",
   "outputs": [
    {
     "name": "stdout",
     "output_type": "stream",
     "text": [
      "Numerical Columns:\n",
      "Index(['ID', 'hla_match_c_high', 'hla_high_res_8', 'hla_low_res_6',\n",
      "       'hla_high_res_6', 'hla_high_res_10', 'hla_match_dqb1_high',\n",
      "       'hla_nmdp_6', 'hla_match_c_low', 'hla_match_drb1_low',\n",
      "       'hla_match_dqb1_low', 'year_hct', 'hla_match_a_high', 'donor_age',\n",
      "       'hla_match_b_low', 'age_at_hct', 'hla_match_a_low', 'hla_match_b_high',\n",
      "       'comorbidity_score', 'karnofsky_score', 'hla_low_res_8',\n",
      "       'hla_match_drb1_high', 'hla_low_res_10', 'efs', 'efs_time', 'target'],\n",
      "      dtype='object')\n",
      "\n",
      "Categorical Columns:\n",
      "Index(['Dataset'], dtype='object')\n"
     ]
    }
   ],
   "execution_count": 12
  },
  {
   "metadata": {},
   "cell_type": "code",
   "outputs": [],
   "execution_count": null,
   "source": "",
   "id": "78528e753faa9e5a"
  },
  {
   "metadata": {
    "ExecuteTime": {
     "end_time": "2024-12-16T21:17:08.897386Z",
     "start_time": "2024-12-16T21:17:08.890694Z"
    }
   },
   "cell_type": "code",
   "source": [
    "# Handling missing values for categorical columns\n",
    "for column in categorical_columns:\n",
    "    # Replace missing values in categorical columns with 'unknown'\n",
    "    df[column].fillna('unknown', inplace=True)"
   ],
   "id": "1fd72f53df5f37c6",
   "outputs": [],
   "execution_count": 13
  },
  {
   "metadata": {
    "ExecuteTime": {
     "end_time": "2024-12-16T21:17:10.701520Z",
     "start_time": "2024-12-16T21:17:10.693634Z"
    }
   },
   "cell_type": "code",
   "source": [
    "categories = ['dri_score', 'psych_disturb', 'cyto_score', 'diabetes', 'tbi_status',\n",
    "       'arrhythmia', 'graft_type', 'vent_hist', 'renal_issue', 'pulm_severe',\n",
    "       'prim_disease_hct', 'cmv_status', 'tce_imm_match', 'rituximab',\n",
    "       'prod_type', 'cyto_score_detail', 'conditioning_intensity', 'ethnicity',\n",
    "       'obesity', 'mrd_hct', 'in_vivo_tcd', 'tce_match', 'hepatic_severe',\n",
    "       'prior_tumor', 'peptic_ulcer', 'gvhd_proph', 'rheum_issue', 'sex_match',\n",
    "       'race_group', 'hepatic_mild', 'tce_div_match', 'donor_related',\n",
    "       'melphalan_dose', 'cardiac', 'pulm_moderate']"
   ],
   "id": "e612c9b35f7683fb",
   "outputs": [],
   "execution_count": 14
  },
  {
   "metadata": {},
   "cell_type": "code",
   "outputs": [],
   "execution_count": null,
   "source": "",
   "id": "431c8d603e2c931f"
  },
  {
   "metadata": {
    "ExecuteTime": {
     "end_time": "2024-12-16T21:17:13.238138Z",
     "start_time": "2024-12-16T21:17:13.178996Z"
    }
   },
   "cell_type": "code",
   "source": [
    "from sklearn.preprocessing import LabelEncoder\n",
    "\n",
    "# Initialize the encoder\n",
    "label_encoder = LabelEncoder()\n",
    "\n",
    "# Fit and transform\n",
    "for cat in categories:\n",
    "    df[cat] = label_encoder.fit_transform(df[cat])\n",
    "    df[cat] = df[cat].astype('category')"
   ],
   "id": "35a1c4afcb39817e",
   "outputs": [],
   "execution_count": 15
  },
  {
   "metadata": {
    "ExecuteTime": {
     "end_time": "2024-12-16T21:17:16.474640Z",
     "start_time": "2024-12-16T21:17:16.444300Z"
    }
   },
   "cell_type": "code",
   "source": [
    "# Split the concatenated dataset back into the original train and test datasets\n",
    "# Retain relevant columns while dropping unnecessary ones\n",
    "train_data = df[df['Dataset'] == 'train'].drop(columns=['Dataset', 'ID'])  # Train set without metadata\n",
    "test_data = df[df['Dataset'] == 'test'].drop(columns=['Dataset', 'efs', 'efs_time', 'target'])  # Test set without target-related columns\n",
    "\n",
    "# Separate features (X) and target (y) for the training set\n",
    "X = train_data.drop(columns=['efs', 'efs_time', 'target'])  # Feature columns for training\n",
    "y = train_data[['target']]  # Target variable for training"
   ],
   "id": "2b57c8f347cc33ec",
   "outputs": [],
   "execution_count": 16
  },
  {
   "metadata": {
    "ExecuteTime": {
     "end_time": "2024-12-16T21:25:08.854147Z",
     "start_time": "2024-12-16T21:23:56.069933Z"
    }
   },
   "cell_type": "code",
   "source": [
    "from sklearn.ensemble import RandomForestRegressor\n",
    "from sklearn.model_selection import KFold\n",
    "from sklearn.metrics import mean_squared_error\n",
    "from sklearn.impute import SimpleImputer\n",
    "from sklearn.compose import ColumnTransformer\n",
    "from sklearn.pipeline import Pipeline\n",
    "import numpy as np\n",
    "from lifelines.utils import concordance_index\n",
    "\n",
    "# Separate numerical and categorical columns\n",
    "numeric_features = X.select_dtypes(include=['int64', 'float64']).columns\n",
    "categorical_features = X.select_dtypes(include=['object', 'category']).columns\n",
    "\n",
    "# Create preprocessing pipeline\n",
    "preprocessor = ColumnTransformer(\n",
    "    transformers=[\n",
    "        ('num', SimpleImputer(strategy='median'), numeric_features),\n",
    "        ('cat', SimpleImputer(strategy='most_frequent'), categorical_features)\n",
    "    ])\n",
    "\n",
    "# Create pipeline with preprocessing and model\n",
    "model_pipeline = Pipeline([\n",
    "    ('imputer', preprocessor),\n",
    "    ('regressor', RandomForestRegressor(\n",
    "        n_estimators=1000,\n",
    "        max_depth=6,\n",
    "        min_samples_split=2,\n",
    "        min_samples_leaf=1,\n",
    "        random_state=42,\n",
    "        n_jobs=-1\n",
    "    ))\n",
    "])\n",
    "\n",
    "# Initialize K-Fold cross-validation\n",
    "kf = KFold(n_splits=5, shuffle=True, random_state=42)\n",
    "\n",
    "# Lists to store fold-specific results\n",
    "fold_scores = []  # RMSE for each fold\n",
    "fold_c_indices = []  # C-index for each fold\n",
    "\n",
    "# Perform cross-validation\n",
    "for fold, (train_index, val_index) in enumerate(kf.split(X), 1):\n",
    "    # Split the dataset into training and validation sets for the current fold\n",
    "    X_train, X_val = X.iloc[train_index], X.iloc[val_index]\n",
    "    y_train, y_val = y.iloc[train_index], y.iloc[val_index]\n",
    "\n",
    "    # Fit the pipeline and make predictions\n",
    "    model_pipeline.fit(X_train, y_train)\n",
    "    y_pred = model_pipeline.predict(X_val)\n",
    "\n",
    "    # Evaluate RMSE (Root Mean Squared Error)\n",
    "    fold_score = mean_squared_error(y_val, y_pred, squared=False)\n",
    "    fold_scores.append(fold_score)\n",
    "\n",
    "    # Calculate Concordance Index (C-index) for survival analysis\n",
    "    c_index = concordance_index(y_val, y_pred)\n",
    "    fold_c_indices.append(c_index)\n",
    "\n",
    "    # Print metrics for the current fold\n",
    "    print(f\"\\nFold {fold} Results:\")\n",
    "    print(f\"RMSE: {fold_score:.4f}\")\n",
    "    print(f\"C-index: {c_index:.4f}\")\n",
    "\n",
    "# Summary of cross-validation results\n",
    "print(\"\\nOverall Results:\")\n",
    "print(f\"Mean RMSE: {np.mean(fold_scores):.4f} ± {np.std(fold_scores):.4f}\")\n",
    "print(f\"Mean C-index: {np.mean(fold_c_indices):.4f} ± {np.std(fold_c_indices):.4f}\")\n",
    "\n",
    "# If you want to see feature importances after training on all data\n",
    "final_model = model_pipeline.fit(X, y)\n",
    "feature_importance = pd.DataFrame({\n",
    "    'feature': numeric_features.tolist() + categorical_features.tolist(),\n",
    "    'importance': final_model.named_steps['regressor'].feature_importances_\n",
    "}).sort_values('importance', ascending=False)\n",
    "\n",
    "print(\"\\nTop 10 Most Important Features:\")\n",
    "print(feature_importance.head(10))"
   ],
   "id": "2e329bd0761f5f13",
   "outputs": [
    {
     "name": "stdout",
     "output_type": "stream",
     "text": [
      "\n",
      "Fold 1 Results:\n",
      "RMSE: 0.1629\n",
      "C-index: 0.6197\n",
      "\n",
      "Fold 2 Results:\n",
      "RMSE: 0.1646\n",
      "C-index: 0.6227\n",
      "\n",
      "Fold 3 Results:\n",
      "RMSE: 0.1632\n",
      "C-index: 0.6230\n",
      "\n",
      "Fold 4 Results:\n",
      "RMSE: 0.1646\n",
      "C-index: 0.6141\n",
      "\n",
      "Fold 5 Results:\n",
      "RMSE: 0.1649\n",
      "C-index: 0.6147\n",
      "\n",
      "Overall Results:\n",
      "Mean RMSE: 0.1640 ± 0.0008\n",
      "Mean C-index: 0.6189 ± 0.0038\n",
      "\n",
      "Top 10 Most Important Features:\n",
      "                   feature  importance\n",
      "22               dri_score    0.338414\n",
      "38  conditioning_intensity    0.203659\n",
      "17       comorbidity_score    0.153233\n",
      "10                year_hct    0.071567\n",
      "18         karnofsky_score    0.054577\n",
      "24              cyto_score    0.024289\n",
      "12               donor_age    0.021703\n",
      "41                 mrd_hct    0.016722\n",
      "32        prim_disease_hct    0.014838\n",
      "14              age_at_hct    0.013956\n"
     ]
    }
   ],
   "execution_count": 18
  },
  {
   "metadata": {},
   "cell_type": "code",
   "outputs": [],
   "execution_count": null,
   "source": "",
   "id": "86924f25559bf3a6"
  },
  {
   "metadata": {},
   "cell_type": "code",
   "outputs": [],
   "execution_count": null,
   "source": "",
   "id": "5fbf9b2b73d8c8e3"
  },
  {
   "metadata": {
    "ExecuteTime": {
     "end_time": "2024-12-16T21:31:27.502419Z",
     "start_time": "2024-12-16T21:30:28.005074Z"
    }
   },
   "cell_type": "code",
   "source": [
    "import xgboost as xgb\n",
    "from sklearn.model_selection import KFold\n",
    "from sklearn.metrics import mean_squared_error\n",
    "from sklearn.preprocessing import LabelEncoder\n",
    "import numpy as np\n",
    "from lifelines.utils import concordance_index\n",
    "import pandas as pd\n",
    "\n",
    "def prepare_categorical_features(X):\n",
    "    \"\"\"Prepare categorical features using Label Encoding\"\"\"\n",
    "    X_prepared = X.copy()\n",
    "    label_encoders = {}\n",
    "\n",
    "    for column in X.select_dtypes(include=['category']).columns:\n",
    "        label_encoders[column] = LabelEncoder()\n",
    "        X_prepared[column] = label_encoders[column].fit_transform(X_prepared[column].astype(str))\n",
    "\n",
    "    return X_prepared, label_encoders\n",
    "\n",
    "# Approach 1: Using Label Encoding\n",
    "def train_xgboost_label_encoded():\n",
    "    # Prepare data\n",
    "    X_prepared, _ = prepare_categorical_features(X)\n",
    "\n",
    "    # Initialize K-Fold cross-validation\n",
    "    kf = KFold(n_splits=5, shuffle=True, random_state=42)\n",
    "\n",
    "    # Lists to store fold-specific results\n",
    "    fold_scores = []\n",
    "    fold_c_indices = []\n",
    "\n",
    "    # XGBoost parameters\n",
    "    xgb_params = {\n",
    "        'objective': 'reg:squarederror',\n",
    "        'max_depth': 6,\n",
    "        'learning_rate': 0.05,\n",
    "        'n_estimators': 1000,\n",
    "        'subsample': 0.8,\n",
    "        'colsample_bytree': 0.8,\n",
    "        'random_state': 42\n",
    "    }\n",
    "\n",
    "    for fold, (train_index, val_index) in enumerate(kf.split(X_prepared), 1):\n",
    "        # Split the dataset\n",
    "        X_train, X_val = X_prepared.iloc[train_index], X_prepared.iloc[val_index]\n",
    "        y_train, y_val = y.iloc[train_index], y.iloc[val_index]\n",
    "\n",
    "        # Train XGBoost model\n",
    "        model = xgb.XGBRegressor(**xgb_params)\n",
    "        model.fit(\n",
    "            X_train,\n",
    "            y_train,\n",
    "            eval_set=[(X_val, y_val)],\n",
    "            verbose=False\n",
    "        )\n",
    "\n",
    "        # Make predictions\n",
    "        y_pred = model.predict(X_val)\n",
    "\n",
    "        # Calculate metrics\n",
    "        fold_score = mean_squared_error(y_val, y_pred, squared=False)\n",
    "        fold_scores.append(fold_score)\n",
    "\n",
    "        c_index = concordance_index(y_val, y_pred)\n",
    "        fold_c_indices.append(c_index)\n",
    "\n",
    "        print(f\"\\nFold {fold} Results:\")\n",
    "        print(f\"RMSE: {fold_score:.4f}\")\n",
    "        print(f\"C-index: {c_index:.4f}\")\n",
    "\n",
    "    print(\"\\nXGBoost Results (Label Encoded Features):\")\n",
    "    print(f\"Mean RMSE: {np.mean(fold_scores):.4f} ± {np.std(fold_scores):.4f}\")\n",
    "    print(f\"Mean C-index: {np.mean(fold_c_indices):.4f} ± {np.std(fold_c_indices):.4f}\")\n",
    "\n",
    "    # Feature importance\n",
    "    final_model = xgb.XGBRegressor(**xgb_params)\n",
    "    final_model.fit(X_prepared, y)\n",
    "    importance_df = pd.DataFrame({\n",
    "        'feature': X_prepared.columns,\n",
    "        'importance': final_model.feature_importances_\n",
    "    }).sort_values('importance', ascending=False)\n",
    "\n",
    "    print(\"\\nTop 10 Most Important Features:\")\n",
    "    print(importance_df.head(10))\n",
    "\n",
    "    return np.mean(fold_scores)\n",
    "\n",
    "# Approach 2: Using Native Categorical Support (requires newer XGBoost version)\n",
    "def train_xgboost_native_categorical():\n",
    "    try:\n",
    "        # Initialize K-Fold cross-validation\n",
    "        kf = KFold(n_splits=5, shuffle=True, random_state=42)\n",
    "\n",
    "        # Lists to store fold-specific results\n",
    "        fold_scores = []\n",
    "        fold_c_indices = []\n",
    "\n",
    "        # XGBoost parameters with enable_categorical=True\n",
    "        xgb_params = {\n",
    "            'objective': 'reg:squarederror',\n",
    "            'max_depth': 6,\n",
    "            'learning_rate': 0.05,\n",
    "            'n_estimators': 1000,\n",
    "            'subsample': 0.8,\n",
    "            'colsample_bytree': 0.8,\n",
    "            'random_state': 42,\n",
    "            'enable_categorical': True\n",
    "        }\n",
    "\n",
    "        for fold, (train_index, val_index) in enumerate(kf.split(X), 1):\n",
    "            # Split the dataset\n",
    "            X_train, X_val = X.iloc[train_index], X.iloc[val_index]\n",
    "            y_train, y_val = y.iloc[train_index], y.iloc[val_index]\n",
    "\n",
    "            # Train XGBoost model\n",
    "            model = xgb.XGBRegressor(**xgb_params)\n",
    "            model.fit(\n",
    "                X_train,\n",
    "                y_train,\n",
    "                eval_set=[(X_val, y_val)],\n",
    "                verbose=False\n",
    "            )\n",
    "\n",
    "            # Make predictions\n",
    "            y_pred = model.predict(X_val)\n",
    "\n",
    "            # Calculate metrics\n",
    "            fold_score = mean_squared_error(y_val, y_pred, squared=False)\n",
    "            fold_scores.append(fold_score)\n",
    "\n",
    "            c_index = concordance_index(y_val, y_pred)\n",
    "            fold_c_indices.append(c_index)\n",
    "\n",
    "            print(f\"\\nFold {fold} Results:\")\n",
    "            print(f\"RMSE: {fold_score:.4f}\")\n",
    "            print(f\"C-index: {c_index:.4f}\")\n",
    "\n",
    "        print(\"\\nXGBoost Results (Native Categorical):\")\n",
    "        print(f\"Mean RMSE: {np.mean(fold_scores):.4f} ± {np.std(fold_scores):.4f}\")\n",
    "        print(f\"Mean C-index: {np.mean(fold_c_indices):.4f} ± {np.std(fold_c_indices):.4f}\")\n",
    "        return np.mean(fold_scores)\n",
    "    except Exception as e:\n",
    "        print(\"Native categorical support failed. Your XGBoost version might not support it.\")\n",
    "        print(f\"Error: {str(e)}\")\n",
    "        return None\n",
    "\n",
    "# Try both approaches\n",
    "print(\"Training with Label Encoded features...\")\n",
    "encoded_rmse = train_xgboost_label_encoded()\n",
    "\n",
    "print(\"\\nTrying Native Categorical support...\")\n",
    "native_cat_rmse = train_xgboost_native_categorical()\n",
    "\n",
    "print(\"\\nFinal Comparison:\")\n",
    "print(f\"Label Encoded RMSE: {encoded_rmse:.4f}\")\n",
    "if native_cat_rmse is not None:\n",
    "    print(f\"Native Categorical RMSE: {native_cat_rmse:.4f}\")"
   ],
   "id": "cc2edbbdc0b5b19",
   "outputs": [
    {
     "name": "stdout",
     "output_type": "stream",
     "text": [
      "Training with Label Encoded features...\n",
      "\n",
      "Fold 1 Results:\n",
      "RMSE: 0.1571\n",
      "C-index: 0.6433\n",
      "\n",
      "Fold 2 Results:\n",
      "RMSE: 0.1570\n",
      "C-index: 0.6490\n",
      "\n",
      "Fold 3 Results:\n",
      "RMSE: 0.1569\n",
      "C-index: 0.6461\n",
      "\n",
      "Fold 4 Results:\n",
      "RMSE: 0.1585\n",
      "C-index: 0.6380\n",
      "\n",
      "Fold 5 Results:\n",
      "RMSE: 0.1580\n",
      "C-index: 0.6426\n",
      "\n",
      "XGBoost Results (Label Encoded Features):\n",
      "Mean RMSE: 0.1575 ± 0.0006\n",
      "Mean C-index: 0.6438 ± 0.0037\n",
      "\n",
      "Top 10 Most Important Features:\n",
      "                   feature  importance\n",
      "26  conditioning_intensity    0.042109\n",
      "0                dri_score    0.035516\n",
      "46       comorbidity_score    0.028024\n",
      "47         karnofsky_score    0.024304\n",
      "25       cyto_score_detail    0.023847\n",
      "30                 mrd_hct    0.023382\n",
      "28                year_hct    0.022835\n",
      "12             pulm_severe    0.022195\n",
      "43               sex_match    0.020454\n",
      "7               arrhythmia    0.019967\n",
      "\n",
      "Trying Native Categorical support...\n",
      "\n",
      "Fold 1 Results:\n",
      "RMSE: 0.1556\n",
      "C-index: 0.6470\n",
      "\n",
      "Fold 2 Results:\n",
      "RMSE: 0.1574\n",
      "C-index: 0.6466\n",
      "\n",
      "Fold 3 Results:\n",
      "RMSE: 0.1577\n",
      "C-index: 0.6432\n",
      "\n",
      "Fold 4 Results:\n",
      "RMSE: 0.1585\n",
      "C-index: 0.6382\n",
      "\n",
      "Fold 5 Results:\n",
      "RMSE: 0.1577\n",
      "C-index: 0.6437\n",
      "\n",
      "XGBoost Results (Native Categorical):\n",
      "Mean RMSE: 0.1574 ± 0.0010\n",
      "Mean C-index: 0.6438 ± 0.0031\n",
      "\n",
      "Final Comparison:\n",
      "Label Encoded RMSE: 0.1575\n",
      "Native Categorical RMSE: 0.1574\n"
     ]
    }
   ],
   "execution_count": 21
  },
  {
   "metadata": {
    "ExecuteTime": {
     "end_time": "2024-12-16T21:40:51.230262Z",
     "start_time": "2024-12-16T21:40:51.183342Z"
    }
   },
   "cell_type": "code",
   "source": "final_model",
   "id": "67a962faf6b57d05",
   "outputs": [
    {
     "data": {
      "text/plain": [
       "Pipeline(steps=[('imputer',\n",
       "                 ColumnTransformer(transformers=[('num',\n",
       "                                                  SimpleImputer(strategy='median'),\n",
       "                                                  Index(['hla_match_c_high', 'hla_high_res_8', 'hla_low_res_6', 'hla_high_res_6',\n",
       "       'hla_high_res_10', 'hla_match_dqb1_high', 'hla_nmdp_6',\n",
       "       'hla_match_c_low', 'hla_match_drb1_low', 'hla_match_dqb1_low',\n",
       "       'year_hct', 'hla_match_a_high', 'donor_age', 'hla_match_b_low',\n",
       "       'a...\n",
       "       'prod_type', 'cyto_score_detail', 'conditioning_intensity', 'ethnicity',\n",
       "       'obesity', 'mrd_hct', 'in_vivo_tcd', 'tce_match', 'hepatic_severe',\n",
       "       'prior_tumor', 'peptic_ulcer', 'gvhd_proph', 'rheum_issue', 'sex_match',\n",
       "       'race_group', 'hepatic_mild', 'tce_div_match', 'donor_related',\n",
       "       'melphalan_dose', 'cardiac', 'pulm_moderate'],\n",
       "      dtype='object'))])),\n",
       "                ('regressor',\n",
       "                 RandomForestRegressor(max_depth=6, n_estimators=1000,\n",
       "                                       n_jobs=-1, random_state=42))])"
      ],
      "text/html": [
       "<style>#sk-container-id-2 {color: black;}#sk-container-id-2 pre{padding: 0;}#sk-container-id-2 div.sk-toggleable {background-color: white;}#sk-container-id-2 label.sk-toggleable__label {cursor: pointer;display: block;width: 100%;margin-bottom: 0;padding: 0.3em;box-sizing: border-box;text-align: center;}#sk-container-id-2 label.sk-toggleable__label-arrow:before {content: \"▸\";float: left;margin-right: 0.25em;color: #696969;}#sk-container-id-2 label.sk-toggleable__label-arrow:hover:before {color: black;}#sk-container-id-2 div.sk-estimator:hover label.sk-toggleable__label-arrow:before {color: black;}#sk-container-id-2 div.sk-toggleable__content {max-height: 0;max-width: 0;overflow: hidden;text-align: left;background-color: #f0f8ff;}#sk-container-id-2 div.sk-toggleable__content pre {margin: 0.2em;color: black;border-radius: 0.25em;background-color: #f0f8ff;}#sk-container-id-2 input.sk-toggleable__control:checked~div.sk-toggleable__content {max-height: 200px;max-width: 100%;overflow: auto;}#sk-container-id-2 input.sk-toggleable__control:checked~label.sk-toggleable__label-arrow:before {content: \"▾\";}#sk-container-id-2 div.sk-estimator input.sk-toggleable__control:checked~label.sk-toggleable__label {background-color: #d4ebff;}#sk-container-id-2 div.sk-label input.sk-toggleable__control:checked~label.sk-toggleable__label {background-color: #d4ebff;}#sk-container-id-2 input.sk-hidden--visually {border: 0;clip: rect(1px 1px 1px 1px);clip: rect(1px, 1px, 1px, 1px);height: 1px;margin: -1px;overflow: hidden;padding: 0;position: absolute;width: 1px;}#sk-container-id-2 div.sk-estimator {font-family: monospace;background-color: #f0f8ff;border: 1px dotted black;border-radius: 0.25em;box-sizing: border-box;margin-bottom: 0.5em;}#sk-container-id-2 div.sk-estimator:hover {background-color: #d4ebff;}#sk-container-id-2 div.sk-parallel-item::after {content: \"\";width: 100%;border-bottom: 1px solid gray;flex-grow: 1;}#sk-container-id-2 div.sk-label:hover label.sk-toggleable__label {background-color: #d4ebff;}#sk-container-id-2 div.sk-serial::before {content: \"\";position: absolute;border-left: 1px solid gray;box-sizing: border-box;top: 0;bottom: 0;left: 50%;z-index: 0;}#sk-container-id-2 div.sk-serial {display: flex;flex-direction: column;align-items: center;background-color: white;padding-right: 0.2em;padding-left: 0.2em;position: relative;}#sk-container-id-2 div.sk-item {position: relative;z-index: 1;}#sk-container-id-2 div.sk-parallel {display: flex;align-items: stretch;justify-content: center;background-color: white;position: relative;}#sk-container-id-2 div.sk-item::before, #sk-container-id-2 div.sk-parallel-item::before {content: \"\";position: absolute;border-left: 1px solid gray;box-sizing: border-box;top: 0;bottom: 0;left: 50%;z-index: -1;}#sk-container-id-2 div.sk-parallel-item {display: flex;flex-direction: column;z-index: 1;position: relative;background-color: white;}#sk-container-id-2 div.sk-parallel-item:first-child::after {align-self: flex-end;width: 50%;}#sk-container-id-2 div.sk-parallel-item:last-child::after {align-self: flex-start;width: 50%;}#sk-container-id-2 div.sk-parallel-item:only-child::after {width: 0;}#sk-container-id-2 div.sk-dashed-wrapped {border: 1px dashed gray;margin: 0 0.4em 0.5em 0.4em;box-sizing: border-box;padding-bottom: 0.4em;background-color: white;}#sk-container-id-2 div.sk-label label {font-family: monospace;font-weight: bold;display: inline-block;line-height: 1.2em;}#sk-container-id-2 div.sk-label-container {text-align: center;}#sk-container-id-2 div.sk-container {/* jupyter's `normalize.less` sets `[hidden] { display: none; }` but bootstrap.min.css set `[hidden] { display: none !important; }` so we also need the `!important` here to be able to override the default hidden behavior on the sphinx rendered scikit-learn.org. See: https://github.com/scikit-learn/scikit-learn/issues/21755 */display: inline-block !important;position: relative;}#sk-container-id-2 div.sk-text-repr-fallback {display: none;}</style><div id=\"sk-container-id-2\" class=\"sk-top-container\"><div class=\"sk-text-repr-fallback\"><pre>Pipeline(steps=[(&#x27;imputer&#x27;,\n",
       "                 ColumnTransformer(transformers=[(&#x27;num&#x27;,\n",
       "                                                  SimpleImputer(strategy=&#x27;median&#x27;),\n",
       "                                                  Index([&#x27;hla_match_c_high&#x27;, &#x27;hla_high_res_8&#x27;, &#x27;hla_low_res_6&#x27;, &#x27;hla_high_res_6&#x27;,\n",
       "       &#x27;hla_high_res_10&#x27;, &#x27;hla_match_dqb1_high&#x27;, &#x27;hla_nmdp_6&#x27;,\n",
       "       &#x27;hla_match_c_low&#x27;, &#x27;hla_match_drb1_low&#x27;, &#x27;hla_match_dqb1_low&#x27;,\n",
       "       &#x27;year_hct&#x27;, &#x27;hla_match_a_high&#x27;, &#x27;donor_age&#x27;, &#x27;hla_match_b_low&#x27;,\n",
       "       &#x27;a...\n",
       "       &#x27;prod_type&#x27;, &#x27;cyto_score_detail&#x27;, &#x27;conditioning_intensity&#x27;, &#x27;ethnicity&#x27;,\n",
       "       &#x27;obesity&#x27;, &#x27;mrd_hct&#x27;, &#x27;in_vivo_tcd&#x27;, &#x27;tce_match&#x27;, &#x27;hepatic_severe&#x27;,\n",
       "       &#x27;prior_tumor&#x27;, &#x27;peptic_ulcer&#x27;, &#x27;gvhd_proph&#x27;, &#x27;rheum_issue&#x27;, &#x27;sex_match&#x27;,\n",
       "       &#x27;race_group&#x27;, &#x27;hepatic_mild&#x27;, &#x27;tce_div_match&#x27;, &#x27;donor_related&#x27;,\n",
       "       &#x27;melphalan_dose&#x27;, &#x27;cardiac&#x27;, &#x27;pulm_moderate&#x27;],\n",
       "      dtype=&#x27;object&#x27;))])),\n",
       "                (&#x27;regressor&#x27;,\n",
       "                 RandomForestRegressor(max_depth=6, n_estimators=1000,\n",
       "                                       n_jobs=-1, random_state=42))])</pre><b>In a Jupyter environment, please rerun this cell to show the HTML representation or trust the notebook. <br />On GitHub, the HTML representation is unable to render, please try loading this page with nbviewer.org.</b></div><div class=\"sk-container\" hidden><div class=\"sk-item sk-dashed-wrapped\"><div class=\"sk-label-container\"><div class=\"sk-label sk-toggleable\"><input class=\"sk-toggleable__control sk-hidden--visually\" id=\"sk-estimator-id-2\" type=\"checkbox\" ><label for=\"sk-estimator-id-2\" class=\"sk-toggleable__label sk-toggleable__label-arrow\">Pipeline</label><div class=\"sk-toggleable__content\"><pre>Pipeline(steps=[(&#x27;imputer&#x27;,\n",
       "                 ColumnTransformer(transformers=[(&#x27;num&#x27;,\n",
       "                                                  SimpleImputer(strategy=&#x27;median&#x27;),\n",
       "                                                  Index([&#x27;hla_match_c_high&#x27;, &#x27;hla_high_res_8&#x27;, &#x27;hla_low_res_6&#x27;, &#x27;hla_high_res_6&#x27;,\n",
       "       &#x27;hla_high_res_10&#x27;, &#x27;hla_match_dqb1_high&#x27;, &#x27;hla_nmdp_6&#x27;,\n",
       "       &#x27;hla_match_c_low&#x27;, &#x27;hla_match_drb1_low&#x27;, &#x27;hla_match_dqb1_low&#x27;,\n",
       "       &#x27;year_hct&#x27;, &#x27;hla_match_a_high&#x27;, &#x27;donor_age&#x27;, &#x27;hla_match_b_low&#x27;,\n",
       "       &#x27;a...\n",
       "       &#x27;prod_type&#x27;, &#x27;cyto_score_detail&#x27;, &#x27;conditioning_intensity&#x27;, &#x27;ethnicity&#x27;,\n",
       "       &#x27;obesity&#x27;, &#x27;mrd_hct&#x27;, &#x27;in_vivo_tcd&#x27;, &#x27;tce_match&#x27;, &#x27;hepatic_severe&#x27;,\n",
       "       &#x27;prior_tumor&#x27;, &#x27;peptic_ulcer&#x27;, &#x27;gvhd_proph&#x27;, &#x27;rheum_issue&#x27;, &#x27;sex_match&#x27;,\n",
       "       &#x27;race_group&#x27;, &#x27;hepatic_mild&#x27;, &#x27;tce_div_match&#x27;, &#x27;donor_related&#x27;,\n",
       "       &#x27;melphalan_dose&#x27;, &#x27;cardiac&#x27;, &#x27;pulm_moderate&#x27;],\n",
       "      dtype=&#x27;object&#x27;))])),\n",
       "                (&#x27;regressor&#x27;,\n",
       "                 RandomForestRegressor(max_depth=6, n_estimators=1000,\n",
       "                                       n_jobs=-1, random_state=42))])</pre></div></div></div><div class=\"sk-serial\"><div class=\"sk-item sk-dashed-wrapped\"><div class=\"sk-label-container\"><div class=\"sk-label sk-toggleable\"><input class=\"sk-toggleable__control sk-hidden--visually\" id=\"sk-estimator-id-3\" type=\"checkbox\" ><label for=\"sk-estimator-id-3\" class=\"sk-toggleable__label sk-toggleable__label-arrow\">imputer: ColumnTransformer</label><div class=\"sk-toggleable__content\"><pre>ColumnTransformer(transformers=[(&#x27;num&#x27;, SimpleImputer(strategy=&#x27;median&#x27;),\n",
       "                                 Index([&#x27;hla_match_c_high&#x27;, &#x27;hla_high_res_8&#x27;, &#x27;hla_low_res_6&#x27;, &#x27;hla_high_res_6&#x27;,\n",
       "       &#x27;hla_high_res_10&#x27;, &#x27;hla_match_dqb1_high&#x27;, &#x27;hla_nmdp_6&#x27;,\n",
       "       &#x27;hla_match_c_low&#x27;, &#x27;hla_match_drb1_low&#x27;, &#x27;hla_match_dqb1_low&#x27;,\n",
       "       &#x27;year_hct&#x27;, &#x27;hla_match_a_high&#x27;, &#x27;donor_age&#x27;, &#x27;hla_match_b_low&#x27;,\n",
       "       &#x27;age_at_hct&#x27;, &#x27;hla_match_a_low...\n",
       "       &#x27;prim_disease_hct&#x27;, &#x27;cmv_status&#x27;, &#x27;tce_imm_match&#x27;, &#x27;rituximab&#x27;,\n",
       "       &#x27;prod_type&#x27;, &#x27;cyto_score_detail&#x27;, &#x27;conditioning_intensity&#x27;, &#x27;ethnicity&#x27;,\n",
       "       &#x27;obesity&#x27;, &#x27;mrd_hct&#x27;, &#x27;in_vivo_tcd&#x27;, &#x27;tce_match&#x27;, &#x27;hepatic_severe&#x27;,\n",
       "       &#x27;prior_tumor&#x27;, &#x27;peptic_ulcer&#x27;, &#x27;gvhd_proph&#x27;, &#x27;rheum_issue&#x27;, &#x27;sex_match&#x27;,\n",
       "       &#x27;race_group&#x27;, &#x27;hepatic_mild&#x27;, &#x27;tce_div_match&#x27;, &#x27;donor_related&#x27;,\n",
       "       &#x27;melphalan_dose&#x27;, &#x27;cardiac&#x27;, &#x27;pulm_moderate&#x27;],\n",
       "      dtype=&#x27;object&#x27;))])</pre></div></div></div><div class=\"sk-parallel\"><div class=\"sk-parallel-item\"><div class=\"sk-item\"><div class=\"sk-label-container\"><div class=\"sk-label sk-toggleable\"><input class=\"sk-toggleable__control sk-hidden--visually\" id=\"sk-estimator-id-4\" type=\"checkbox\" ><label for=\"sk-estimator-id-4\" class=\"sk-toggleable__label sk-toggleable__label-arrow\">num</label><div class=\"sk-toggleable__content\"><pre>Index([&#x27;hla_match_c_high&#x27;, &#x27;hla_high_res_8&#x27;, &#x27;hla_low_res_6&#x27;, &#x27;hla_high_res_6&#x27;,\n",
       "       &#x27;hla_high_res_10&#x27;, &#x27;hla_match_dqb1_high&#x27;, &#x27;hla_nmdp_6&#x27;,\n",
       "       &#x27;hla_match_c_low&#x27;, &#x27;hla_match_drb1_low&#x27;, &#x27;hla_match_dqb1_low&#x27;,\n",
       "       &#x27;year_hct&#x27;, &#x27;hla_match_a_high&#x27;, &#x27;donor_age&#x27;, &#x27;hla_match_b_low&#x27;,\n",
       "       &#x27;age_at_hct&#x27;, &#x27;hla_match_a_low&#x27;, &#x27;hla_match_b_high&#x27;,\n",
       "       &#x27;comorbidity_score&#x27;, &#x27;karnofsky_score&#x27;, &#x27;hla_low_res_8&#x27;,\n",
       "       &#x27;hla_match_drb1_high&#x27;, &#x27;hla_low_res_10&#x27;],\n",
       "      dtype=&#x27;object&#x27;)</pre></div></div></div><div class=\"sk-serial\"><div class=\"sk-item\"><div class=\"sk-estimator sk-toggleable\"><input class=\"sk-toggleable__control sk-hidden--visually\" id=\"sk-estimator-id-5\" type=\"checkbox\" ><label for=\"sk-estimator-id-5\" class=\"sk-toggleable__label sk-toggleable__label-arrow\">SimpleImputer</label><div class=\"sk-toggleable__content\"><pre>SimpleImputer(strategy=&#x27;median&#x27;)</pre></div></div></div></div></div></div><div class=\"sk-parallel-item\"><div class=\"sk-item\"><div class=\"sk-label-container\"><div class=\"sk-label sk-toggleable\"><input class=\"sk-toggleable__control sk-hidden--visually\" id=\"sk-estimator-id-6\" type=\"checkbox\" ><label for=\"sk-estimator-id-6\" class=\"sk-toggleable__label sk-toggleable__label-arrow\">cat</label><div class=\"sk-toggleable__content\"><pre>Index([&#x27;dri_score&#x27;, &#x27;psych_disturb&#x27;, &#x27;cyto_score&#x27;, &#x27;diabetes&#x27;, &#x27;tbi_status&#x27;,\n",
       "       &#x27;arrhythmia&#x27;, &#x27;graft_type&#x27;, &#x27;vent_hist&#x27;, &#x27;renal_issue&#x27;, &#x27;pulm_severe&#x27;,\n",
       "       &#x27;prim_disease_hct&#x27;, &#x27;cmv_status&#x27;, &#x27;tce_imm_match&#x27;, &#x27;rituximab&#x27;,\n",
       "       &#x27;prod_type&#x27;, &#x27;cyto_score_detail&#x27;, &#x27;conditioning_intensity&#x27;, &#x27;ethnicity&#x27;,\n",
       "       &#x27;obesity&#x27;, &#x27;mrd_hct&#x27;, &#x27;in_vivo_tcd&#x27;, &#x27;tce_match&#x27;, &#x27;hepatic_severe&#x27;,\n",
       "       &#x27;prior_tumor&#x27;, &#x27;peptic_ulcer&#x27;, &#x27;gvhd_proph&#x27;, &#x27;rheum_issue&#x27;, &#x27;sex_match&#x27;,\n",
       "       &#x27;race_group&#x27;, &#x27;hepatic_mild&#x27;, &#x27;tce_div_match&#x27;, &#x27;donor_related&#x27;,\n",
       "       &#x27;melphalan_dose&#x27;, &#x27;cardiac&#x27;, &#x27;pulm_moderate&#x27;],\n",
       "      dtype=&#x27;object&#x27;)</pre></div></div></div><div class=\"sk-serial\"><div class=\"sk-item\"><div class=\"sk-estimator sk-toggleable\"><input class=\"sk-toggleable__control sk-hidden--visually\" id=\"sk-estimator-id-7\" type=\"checkbox\" ><label for=\"sk-estimator-id-7\" class=\"sk-toggleable__label sk-toggleable__label-arrow\">SimpleImputer</label><div class=\"sk-toggleable__content\"><pre>SimpleImputer(strategy=&#x27;most_frequent&#x27;)</pre></div></div></div></div></div></div></div></div><div class=\"sk-item\"><div class=\"sk-estimator sk-toggleable\"><input class=\"sk-toggleable__control sk-hidden--visually\" id=\"sk-estimator-id-8\" type=\"checkbox\" ><label for=\"sk-estimator-id-8\" class=\"sk-toggleable__label sk-toggleable__label-arrow\">RandomForestRegressor</label><div class=\"sk-toggleable__content\"><pre>RandomForestRegressor(max_depth=6, n_estimators=1000, n_jobs=-1,\n",
       "                      random_state=42)</pre></div></div></div></div></div></div></div>"
      ]
     },
     "execution_count": 28,
     "metadata": {},
     "output_type": "execute_result"
    }
   ],
   "execution_count": 28
  },
  {
   "metadata": {
    "ExecuteTime": {
     "end_time": "2024-12-16T21:34:44.277968Z",
     "start_time": "2024-12-16T21:34:44.263165Z"
    }
   },
   "cell_type": "code",
   "source": [
    "# Preprocess test data\n",
    "test_features = test_data.drop(columns=['ID'], errors='ignore')  # Drop unnecessary columns"
   ],
   "id": "55871b07acc51d0d",
   "outputs": [],
   "execution_count": 22
  },
  {
   "metadata": {
    "ExecuteTime": {
     "end_time": "2024-12-16T21:40:11.473046Z",
     "start_time": "2024-12-16T21:40:11.354370Z"
    }
   },
   "cell_type": "code",
   "source": [
    "# Predict using the trained CatBoost model\n",
    "test_data['prediction'] = final_model.predict(test_features)"
   ],
   "id": "ad1966eb22893871",
   "outputs": [],
   "execution_count": 25
  },
  {
   "metadata": {
    "ExecuteTime": {
     "end_time": "2024-12-16T21:40:14.894423Z",
     "start_time": "2024-12-16T21:40:14.885157Z"
    }
   },
   "cell_type": "code",
   "source": "test_data['prediction']",
   "id": "5b7fb00b2725d1ac",
   "outputs": [
    {
     "data": {
      "text/plain": [
       "28800    0.504417\n",
       "28801    0.642748\n",
       "28802    0.504220\n",
       "Name: prediction, dtype: float64"
      ]
     },
     "execution_count": 26,
     "metadata": {},
     "output_type": "execute_result"
    }
   ],
   "execution_count": 26
  },
  {
   "metadata": {
    "ExecuteTime": {
     "end_time": "2024-12-16T21:40:19.755977Z",
     "start_time": "2024-12-16T21:40:19.744228Z"
    }
   },
   "cell_type": "code",
   "source": [
    "# Create submission file\n",
    "submission = test_data[['ID', 'prediction']]  # Include 'id' and the predicted target column\n",
    "submission.to_csv('submission.csv', index=False)\n",
    "\n",
    "print(\"Submission file created: submission.csv\")"
   ],
   "id": "64307f05909581a7",
   "outputs": [
    {
     "name": "stdout",
     "output_type": "stream",
     "text": [
      "Submission file created: submission.csv\n"
     ]
    }
   ],
   "execution_count": 27
  }
 ],
 "metadata": {
  "kernelspec": {
   "display_name": "Python 3",
   "language": "python",
   "name": "python3"
  },
  "language_info": {
   "codemirror_mode": {
    "name": "ipython",
    "version": 2
   },
   "file_extension": ".py",
   "mimetype": "text/x-python",
   "name": "python",
   "nbconvert_exporter": "python",
   "pygments_lexer": "ipython2",
   "version": "2.7.6"
  }
 },
 "nbformat": 4,
 "nbformat_minor": 5
}
